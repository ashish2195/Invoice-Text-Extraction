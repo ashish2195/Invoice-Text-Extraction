{
 "cells": [
  {
   "cell_type": "code",
   "execution_count": 1,
   "id": "a979ea46",
   "metadata": {},
   "outputs": [],
   "source": [
    "import requests\n",
    "import pdfplumber"
   ]
  },
  {
   "cell_type": "code",
   "execution_count": 2,
   "id": "0f65ebc2",
   "metadata": {},
   "outputs": [],
   "source": [
    "def download_file(url):\n",
    "    local_filename = url.split('/')[-1]\n",
    "    \n",
    "    with requests.get(url) as r:\n",
    "        with open(local_filename, 'wb') as f:\n",
    "            f.write(r.content)\n",
    "            \n",
    "    return local_filename"
   ]
  },
  {
   "cell_type": "code",
   "execution_count": 17,
   "id": "d6fd4377",
   "metadata": {},
   "outputs": [],
   "source": [
    "invoice_url = r\"http://www.k-billing.com/example_invoices/professionalblue_example.pdf\""
   ]
  },
  {
   "cell_type": "code",
   "execution_count": 18,
   "id": "27901ab0",
   "metadata": {},
   "outputs": [],
   "source": [
    "invoice = download_file(invoice_url)"
   ]
  },
  {
   "cell_type": "code",
   "execution_count": 20,
   "id": "779b433b",
   "metadata": {},
   "outputs": [],
   "source": [
    "with pdfplumber.open(invoice) as pdf:\n",
    "    page = pdf.pages[0]\n",
    "    text = page.extract_text()"
   ]
  },
  {
   "cell_type": "code",
   "execution_count": 21,
   "id": "2c1a0601",
   "metadata": {},
   "outputs": [
    {
     "name": "stdout",
     "output_type": "stream",
     "text": [
      "INVOICE\n",
      "Invoice No. I1083\n",
      "Account # C1006\n",
      "Date 08-14-2008\n",
      "Due By 08-31-2008\n",
      "Demo Company\n",
      "Phone : 111-222-3333 Terms None\n",
      "1234 Main Street E-Mail : 333-444-4444 PO No. PO1234\n",
      "Ashland, KY 41102 Web : http://www.ksoftware.net Sales Rep SalesPerson1\n",
      "Bill To Ship To\n",
      "Test Customer Test Customer\n",
      "1234 Main Street 1234 Main Street\n",
      "Ashland, KY 41101 Ashland,  41101\n",
      "CCooddee DDeessccrriippttiioonn QTY Price Line Total\n",
      "SKU1222 Test Import Name - Description Goes Here 1 $10.00 $10.00\n",
      "Labor - Example labor item. Quantity is number of hours spent,  1.5 $100.00 $150.00\n",
      "price is hourly rate. Quantity accepts decimal values.\n",
      "Notes\n",
      "An invoice note can go here. Multi-line and even multi-page notes are supported.\n",
      "PPaayymmeenntt  DDeettaaiillss\n",
      "Subtotal $160.00\n",
      "Shipping$10.00 Tax $0.78\n",
      "UPS Ground Total $170.78\n",
      "Payments (-) $0.00\n",
      "Balance Due $170.78\n",
      "An invoice footer can go here\n"
     ]
    }
   ],
   "source": [
    "print(text)"
   ]
  },
  {
   "cell_type": "code",
   "execution_count": 22,
   "id": "e7b9d5af",
   "metadata": {},
   "outputs": [],
   "source": [
    "for row in text.split('\\n'):\n",
    "    if row.startswith('Balance Due'):\n",
    "        balance = row.split()[-1]"
   ]
  },
  {
   "cell_type": "code",
   "execution_count": 23,
   "id": "ba7768f1",
   "metadata": {},
   "outputs": [
    {
     "data": {
      "text/plain": [
       "'$170.78'"
      ]
     },
     "execution_count": 23,
     "metadata": {},
     "output_type": "execute_result"
    }
   ],
   "source": [
    "balance"
   ]
  },
  {
   "cell_type": "code",
   "execution_count": 24,
   "id": "1a002bc4",
   "metadata": {},
   "outputs": [],
   "source": [
    "for row in text.split('\\n'):\n",
    "    if row.startswith('Invoice No.'):\n",
    "        invoiceno = row.split()[-1]"
   ]
  },
  {
   "cell_type": "code",
   "execution_count": 25,
   "id": "c0ff9956",
   "metadata": {},
   "outputs": [
    {
     "data": {
      "text/plain": [
       "'I1083'"
      ]
     },
     "execution_count": 25,
     "metadata": {},
     "output_type": "execute_result"
    }
   ],
   "source": [
    "invoiceno"
   ]
  },
  {
   "cell_type": "code",
   "execution_count": 26,
   "id": "8fc8a1e1",
   "metadata": {},
   "outputs": [],
   "source": [
    "import veryfi"
   ]
  },
  {
   "cell_type": "code",
   "execution_count": 27,
   "id": "c8b7133b",
   "metadata": {},
   "outputs": [],
   "source": [
    "client_id = \"vrfUmHLS1naRwwPwNaLAjxLzeMR53n6mLew4910\"\n",
    "client_secret = \"fNlHx4YY019mCPMbVfCl4gb47CdAIcbEU3VOKje1hrbsopFyrum8DRGmwH8ke8Svt6TnWPMuez8NO0UktG7jXE8MkRXkCVi27rxr7JPbxrlupS20mdPDYcneuXmEs7zJ\"\n",
    "username = \"ashishz616\"\n",
    "api_key = \"7de40d0cef225d7fb8c8a4486e1e6f4b\""
   ]
  },
  {
   "cell_type": "code",
   "execution_count": 28,
   "id": "0b81ef59",
   "metadata": {},
   "outputs": [],
   "source": [
    "client = veryfi.Client(client_id,client_secret,username,api_key)"
   ]
  },
  {
   "cell_type": "code",
   "execution_count": 43,
   "id": "1901aa01",
   "metadata": {},
   "outputs": [],
   "source": [
    "categories = [\"Travel\",\"Airfare\",\"Lodging\",\"Job Supplies and Materials\", \"Grocery\"]\n",
    "json_result = client.process_document(r\"E:\\Invoices\\professionalblue_example.pdf\", categories)"
   ]
  },
  {
   "cell_type": "code",
   "execution_count": 44,
   "id": "238bd7eb",
   "metadata": {},
   "outputs": [],
   "source": [
    "import pprint"
   ]
  },
  {
   "cell_type": "code",
   "execution_count": 45,
   "id": "b3849d9b",
   "metadata": {},
   "outputs": [
    {
     "name": "stdout",
     "output_type": "stream",
     "text": [
      "{'abn_number': '',\n",
      " 'account_number': 'C1006',\n",
      " 'bill_to_address': '1234 Main Street\\nAshland, KY 41101',\n",
      " 'bill_to_name': 'Test Customer',\n",
      " 'bill_to_vat_number': '',\n",
      " 'card_number': '',\n",
      " 'cashback': 0.0,\n",
      " 'category': '',\n",
      " 'created': '2021-08-10 08:29:46',\n",
      " 'currency_code': 'USD',\n",
      " 'date': '2008-08-14 00:00:00',\n",
      " 'delivery_date': '',\n",
      " 'discount': 0.0,\n",
      " 'document_reference_number': '',\n",
      " 'document_title': 'INVOICE',\n",
      " 'document_type': 'invoice',\n",
      " 'due_date': '2008-08-31',\n",
      " 'duplicate_of': '',\n",
      " 'external_id': '',\n",
      " 'id': 39116539,\n",
      " 'img_file_name': '2e43a7bf-2bae-4c54-ac18-a7f3f41e38ff.pdf',\n",
      " 'img_thumbnail_url': 'https://scdn.veryfi.com/receipts/4acddadb-acff-4ab7-a076-4be0d23fca88/2e43a7bf-2bae-4c54-ac18-a7f3f41e38ff_t.jpg?Expires=1628585087&Signature=RYbHJslK1GcuK4Vukv1LUX0IsZQ0smlLXTpDJJnGZ6R7~EumAmj30-2jqx64Mx8Rif09bh8YVQoGqtiYB7V06kd3WLS2imaSmt0m0kJ70kGS5aQ0N7M3n~Im1tEbBLTq-xC4uU7byS2q0XoF9ojXF24wYNwHLKK0OfR42earmFPO9dcIL0IeqIGBoDef~jTCkDIuAGO1pofR~ld6O6Az1HwMvWgEmEwLM6Av8HIod5agO2KQBQj6hcGJPpNh-WEqTBpcvmEQ4hiDhpFZKlJ7xVhs3lR-gjxpEkoaCNGTYKE3LRBds~eJ5zwpQUzFFt4ib5vIOWcT3K6ig~5wPCYFYQ__&Key-Pair-Id=APKAJCILBXEJFZF4DCHQ',\n",
      " 'img_url': 'https://scdn.veryfi.com/receipts/4acddadb-acff-4ab7-a076-4be0d23fca88/2e43a7bf-2bae-4c54-ac18-a7f3f41e38ff.pdf?Expires=1628585087&Signature=TIcPZx7HRT2wm0jufvd795RJSQLufLnAFNJUGFKvQL~iEZ6yHkpKr36qkTWG-pYANf0YQoW-eiR8RXbNNAUOlIEyEIJ8B3DvW~felyQZ6mZUZQRsE-bSWerYv0Xn~Z2F5KVT25rKB61Ad-keNcqXmZD0hgfTOtnrLJgQ~H4-uoBrbSDFrr0fkAHE8mcCI6vfHW6ffKML4Z53IJjJgcHb8Jx3zZgWKulbAU3hnH6r0EzsISCyuSkV7MDcdz1FyY06d8F86ePm9BCtN8z3Qcqg57incFcDyEJ8fwNuQOV8Kym56L1Jt6axiqtyeIxowg1gTt7z8AOtIxP3ZmNy6KSXDw__&Key-Pair-Id=APKAJCILBXEJFZF4DCHQ',\n",
      " 'insurance': '',\n",
      " 'invoice_number': 'I1083',\n",
      " 'is_duplicate': 0,\n",
      " 'line_items': [{'date': '',\n",
      "                 'description': 'Test Import Name - Description Goes Here',\n",
      "                 'discount': 0.0,\n",
      "                 'end_date': '',\n",
      "                 'hsn': '',\n",
      "                 'id': 76569466,\n",
      "                 'order': 0,\n",
      "                 'price': 10.0,\n",
      "                 'quantity': 1.0,\n",
      "                 'reference': '',\n",
      "                 'section': '',\n",
      "                 'sku': 'SKU1222',\n",
      "                 'start_date': '',\n",
      "                 'tags': [],\n",
      "                 'tax': 0.0,\n",
      "                 'tax_rate': 0.0,\n",
      "                 'total': 10.0,\n",
      "                 'type': 'service',\n",
      "                 'unit_of_measure': ''},\n",
      "                {'date': '',\n",
      "                 'description': 'Labor - Example labor item. Quantity is '\n",
      "                                'number of hours spent\\n'\n",
      "                                'price is hourly rate. Quantity accepts '\n",
      "                                'decimal values.',\n",
      "                 'discount': 0.0,\n",
      "                 'end_date': '',\n",
      "                 'hsn': '',\n",
      "                 'id': 76569468,\n",
      "                 'order': 1,\n",
      "                 'price': 100.0,\n",
      "                 'quantity': 1.5,\n",
      "                 'reference': '',\n",
      "                 'section': '',\n",
      "                 'sku': '',\n",
      "                 'start_date': '',\n",
      "                 'tags': [],\n",
      "                 'tax': 0.0,\n",
      "                 'tax_rate': 0.0,\n",
      "                 'total': 150.0,\n",
      "                 'type': 'service',\n",
      "                 'unit_of_measure': ''}],\n",
      " 'notes': '',\n",
      " 'ocr_text': 'K software\\n'\n",
      "             '\\tINVOICE\\n'\n",
      "             '\\tInvoice No.\\tI1083\\n'\n",
      "             '\\tAccount #\\tC1006\\n'\n",
      "             'Innovative Software Solutions For Small Business\\t\\t\\t\\t\\tDate\\t'\n",
      "             '08-14-2008\\n'\n",
      "             '\\tDue By\\t08-31-2008\\n'\n",
      "             'Demo Company\\t\\tPhone : 111-222-3333\\t\\tTerms\\tNone\\n'\n",
      "             '1234 Main Street\\t\\tE-Mail 333-444-4444\\t\\tPO No.\\tPO1234\\n'\n",
      "             'Ashland, KY 41102\\t\\tWeb: http://www.ksoftware.net\\tSales Rep\\t'\n",
      "             'Sales Person1\\n'\n",
      "             'Bill To\\t\\t\\t\\tShip To\\n'\n",
      "             'Test Customer\\t\\t\\tTest Customer\\n'\n",
      "             '1234 Main Street\\t\\t\\t1234 Main Street\\n'\n",
      "             'Ashland, KY 41101\\t\\t\\tAshland, 41101\\n'\n",
      "             '\\n'\n",
      "             'Code\\tDescription\\t\\t\\t\\t\\tQTY\\tPrice\\tLine Total\\n'\n",
      "             'SKU1222\\tTest Import Name - Description Goes Here\\t\\t1\\t$10.00\\t'\n",
      "             '$10.00\\n'\n",
      "             'Labor - Example labor item. Quantity is number of hours spent,\\t'\n",
      "             '1.5\\t$100.00\\t$150.00\\n'\n",
      "             'price is hourly rate. Quantity accepts decimal values.\\n'\n",
      "             '\\n'\n",
      "             'Notes\\n'\n",
      "             'An invoice note can go here. Multi-line and even multi-page '\n",
      "             'notes are supported.\\n'\n",
      "             '\\n'\n",
      "             'Payment Details\\n'\n",
      "             '\\n'\n",
      "             '\\tSubtotal\\t$160.00\\n'\n",
      "             'Shipping $10.00\\tTax $0.78\\n'\n",
      "             'UPS Ground\\t\\t\\t\\tTotal\\t$170.78\\n'\n",
      "             '\\tPayments\\t(-) $0.00\\n'\n",
      "             '\\tBalance Due\\t$170.78\\n'\n",
      "             '\\n'\n",
      "             'An invoice footer can go here',\n",
      " 'order_date': '',\n",
      " 'payment_display_name': '',\n",
      " 'payment_terms': '',\n",
      " 'payment_type': '',\n",
      " 'phone_number': '111-222-3333',\n",
      " 'purchase_order_number': 'PO1234',\n",
      " 'rounding': 0.0,\n",
      " 'service_end_date': '',\n",
      " 'service_start_date': '',\n",
      " 'ship_date': '',\n",
      " 'ship_to_address': '1234 Main Street\\nAshland, 41101',\n",
      " 'ship_to_name': 'Test Customer',\n",
      " 'shipping': 0.0,\n",
      " 'store_number': '',\n",
      " 'subtotal': 160.0,\n",
      " 'tax': 0.78,\n",
      " 'tax_lines': [],\n",
      " 'tip': 0.0,\n",
      " 'total': 170.78,\n",
      " 'total_weight': '',\n",
      " 'tracking_number': '',\n",
      " 'updated': '2021-08-10 08:29:48',\n",
      " 'vat_number': '',\n",
      " 'vendor': {'address': '2808 Cumberland Ave, Ashland, KY 41102, United States',\n",
      "            'category': '',\n",
      "            'email': '',\n",
      "            'fax_number': '333-444-4444',\n",
      "            'name': 'K Software LLC',\n",
      "            'phone_number': '111-222-3333',\n",
      "            'raw_name': 'Innovative Software',\n",
      "            'vendor_logo': 'https://cdn.veryfi.com/logos/tmp/584187348.png',\n",
      "            'vendor_reg_number': '',\n",
      "            'vendor_type': '',\n",
      "            'web': 'http://www.ksoftware.net'},\n",
      " 'vendor_account_number': '',\n",
      " 'vendor_bank_name': '',\n",
      " 'vendor_bank_number': '',\n",
      " 'vendor_bank_swift': '',\n",
      " 'vendor_iban': '',\n",
      " 'warnings': [{'cleared_by': {},\n",
      "               'id': 587765,\n",
      "               'message': 'This invoice is overdue since August 31, 2008. '\n",
      "                          'Vendor may charge late payment fees.',\n",
      "               'status': 'active'},\n",
      "              {'cleared_by': {},\n",
      "               'id': 587764,\n",
      "               'message': \"This invoice is from a vendor you haven't yet set \"\n",
      "                          'up.',\n",
      "               'status': 'active'}]}\n"
     ]
    }
   ],
   "source": [
    "pprint.pprint(json_result)"
   ]
  },
  {
   "cell_type": "code",
   "execution_count": null,
   "id": "88be74b1",
   "metadata": {},
   "outputs": [],
   "source": []
  }
 ],
 "metadata": {
  "kernelspec": {
   "display_name": "Python 3",
   "language": "python",
   "name": "python3"
  },
  "language_info": {
   "codemirror_mode": {
    "name": "ipython",
    "version": 3
   },
   "file_extension": ".py",
   "mimetype": "text/x-python",
   "name": "python",
   "nbconvert_exporter": "python",
   "pygments_lexer": "ipython3",
   "version": "3.9.6"
  }
 },
 "nbformat": 4,
 "nbformat_minor": 5
}
